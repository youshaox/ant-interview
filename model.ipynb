{
 "cells": [
  {
   "cell_type": "markdown",
   "metadata": {},
   "source": [
    "# 1. 思路过程\n",
    "\n",
    "## 1、问题理解\n",
    "根据Y为是否购买，判断为二分类问题。或者考虑聚类。\n",
    "考虑聚类，K-means, lid, knn\n",
    "\n",
    "## 2、模型选择\n",
    "选用二分类模型：xgb、随机森林。。。，多模型融合TOP1/评估权重进行组合\n",
    "二分类模型评估指标：混淆矩阵/AUC?\n",
    "\n",
    "## 3、特征工程\n",
    "1. 数据探索：分布、缺失、异常\n",
    "2. 特征清洗、转换\n",
    "3. 特征衍生：log/归一化，one-hot，缺失特征one-hot，加减乘除，因子分析，奇异值分解，其他模型特征；时序特征处理；\n",
    "4. 特征筛选：因变量相关分析，自变量相关特征筛选，随机森林/XGB 特征权重选择 -- 有用信息涵盖，针对高价值特征 深度挖掘及分析\n",
    "\n",
    "## 4、模型训练\n",
    "数据集划分，交叉检验？\n",
    "模型融合输出？"
   ]
  },
  {
   "cell_type": "markdown",
   "metadata": {},
   "source": [
    "# 1. 环境准备"
   ]
  },
  {
   "cell_type": "code",
   "execution_count": 8,
   "metadata": {},
   "outputs": [],
   "source": [
    "HOME_DIRECTORY=\"/home/shawn/workspace/research/ant/\""
   ]
  },
  {
   "cell_type": "code",
   "execution_count": 349,
   "metadata": {},
   "outputs": [],
   "source": [
    "import pandas as pd\n",
    "import matplotlib.pyplot as plt\n",
    "import matplotlib as mpl\n",
    "import numpy as np\n",
    "import seaborn as sns\n",
    "import os\n",
    "import pickle\n",
    "import math\n",
    "from sklearn.ensemble import RandomForestClassifier\n",
    "from sklearn.linear_model.logistic import LogisticRegression\n",
    "from sklearn.model_selection import GridSearchCV\n",
    "from sklearn.model_selection import train_test_split\n",
    "from sklearn.pipeline import Pipeline\n",
    "from sklearn.model_selection import train_test_split\n",
    "from sklearn.metrics import precision_score, recall_score, accuracy_score, roc_auc_score\n",
    "from sklearn.preprocessing import MinMaxScaler\n",
    "from sklearn.preprocessing import StandardScaler\n",
    "from sklearn.metrics import roc_curve, auc\n",
    "from tqdm import tqdm\n",
    "import csv\n",
    "import time\n",
    "import sys"
   ]
  },
  {
   "cell_type": "markdown",
   "metadata": {},
   "source": [
    "# 1. Data Explantory: "
   ]
  },
  {
   "cell_type": "markdown",
   "metadata": {},
   "source": [
    "首先看数据的分布, 缺失, 异常, 相关性"
   ]
  },
  {
   "cell_type": "code",
   "execution_count": 543,
   "metadata": {},
   "outputs": [],
   "source": [
    "ads_train = pd.read_csv(os.path.join(HOME_DIRECTORY,'data/ads_train.csv'), sep=',')\n",
    "ads_test = pd.read_csv(os.path.join(HOME_DIRECTORY,'data/ads_test.csv'), sep=',')\n",
    "ads_train = ads_train.drop('Unnamed: 0',axis=1)\n",
    "ads_test = ads_test.drop('Unnamed: 0',axis=1)"
   ]
  },
  {
   "cell_type": "code",
   "execution_count": 351,
   "metadata": {},
   "outputs": [
    {
     "name": "stdout",
     "output_type": "stream",
     "text": [
      "(38209, 14)\n",
      "(16375, 13)\n"
     ]
    }
   ],
   "source": [
    "print(ads_train.shape)\n",
    "print(ads_test.shape)"
   ]
  },
  {
   "cell_type": "code",
   "execution_count": 352,
   "metadata": {},
   "outputs": [
    {
     "name": "stdout",
     "output_type": "stream",
     "text": [
      "<class 'pandas.core.frame.DataFrame'>\n",
      "RangeIndex: 38209 entries, 0 to 38208\n",
      "Data columns (total 14 columns):\n",
      "isbuyer                38209 non-null int64\n",
      "buy_freq               1620 non-null float64\n",
      "visit_freq             38209 non-null int64\n",
      "buy_interval           38209 non-null float64\n",
      "sv_interval            38209 non-null float64\n",
      "expected_time_buy      38209 non-null float64\n",
      "expected_time_visit    38209 non-null float64\n",
      "last_buy               38209 non-null int64\n",
      "last_visit             38209 non-null int64\n",
      "multiple_buy           38209 non-null int64\n",
      "multiple_visit         38209 non-null int64\n",
      "uniq_urls              38209 non-null int64\n",
      "num_checkins           38209 non-null int64\n",
      "y_buy                  38209 non-null int64\n",
      "dtypes: float64(5), int64(9)\n",
      "memory usage: 4.1 MB\n",
      "None\n"
     ]
    }
   ],
   "source": [
    "\"\"\"\n",
    "1620/38290 = 4%的有数据，大多数buy_freq是空值。\n",
    "1. 使用有值的mean value作为其他的一个estimator。\n",
    "2. 不使用该列\n",
    "使用该列。\n",
    "\"\"\"\n",
    "print(ads_train.info())"
   ]
  },
  {
   "cell_type": "code",
   "execution_count": 353,
   "metadata": {},
   "outputs": [
    {
     "data": {
      "text/html": [
       "<div>\n",
       "<style scoped>\n",
       "    .dataframe tbody tr th:only-of-type {\n",
       "        vertical-align: middle;\n",
       "    }\n",
       "\n",
       "    .dataframe tbody tr th {\n",
       "        vertical-align: top;\n",
       "    }\n",
       "\n",
       "    .dataframe thead th {\n",
       "        text-align: right;\n",
       "    }\n",
       "</style>\n",
       "<table border=\"1\" class=\"dataframe\">\n",
       "  <thead>\n",
       "    <tr style=\"text-align: right;\">\n",
       "      <th></th>\n",
       "      <th>isbuyer</th>\n",
       "      <th>buy_freq</th>\n",
       "      <th>visit_freq</th>\n",
       "      <th>buy_interval</th>\n",
       "      <th>sv_interval</th>\n",
       "      <th>expected_time_buy</th>\n",
       "      <th>expected_time_visit</th>\n",
       "      <th>last_buy</th>\n",
       "      <th>last_visit</th>\n",
       "      <th>multiple_buy</th>\n",
       "      <th>multiple_visit</th>\n",
       "      <th>uniq_urls</th>\n",
       "      <th>num_checkins</th>\n",
       "      <th>y_buy</th>\n",
       "    </tr>\n",
       "  </thead>\n",
       "  <tbody>\n",
       "    <tr>\n",
       "      <th>0</th>\n",
       "      <td>0</td>\n",
       "      <td>NaN</td>\n",
       "      <td>1</td>\n",
       "      <td>0.0</td>\n",
       "      <td>0.00000</td>\n",
       "      <td>0.0</td>\n",
       "      <td>0.00000</td>\n",
       "      <td>106</td>\n",
       "      <td>106</td>\n",
       "      <td>0</td>\n",
       "      <td>0</td>\n",
       "      <td>169</td>\n",
       "      <td>2130</td>\n",
       "      <td>0</td>\n",
       "    </tr>\n",
       "    <tr>\n",
       "      <th>1</th>\n",
       "      <td>0</td>\n",
       "      <td>NaN</td>\n",
       "      <td>1</td>\n",
       "      <td>0.0</td>\n",
       "      <td>0.00000</td>\n",
       "      <td>0.0</td>\n",
       "      <td>0.00000</td>\n",
       "      <td>6</td>\n",
       "      <td>6</td>\n",
       "      <td>0</td>\n",
       "      <td>0</td>\n",
       "      <td>150</td>\n",
       "      <td>539</td>\n",
       "      <td>0</td>\n",
       "    </tr>\n",
       "    <tr>\n",
       "      <th>2</th>\n",
       "      <td>0</td>\n",
       "      <td>NaN</td>\n",
       "      <td>2</td>\n",
       "      <td>0.0</td>\n",
       "      <td>0.50000</td>\n",
       "      <td>0.0</td>\n",
       "      <td>-101.14930</td>\n",
       "      <td>101</td>\n",
       "      <td>101</td>\n",
       "      <td>0</td>\n",
       "      <td>1</td>\n",
       "      <td>103</td>\n",
       "      <td>362</td>\n",
       "      <td>0</td>\n",
       "    </tr>\n",
       "    <tr>\n",
       "      <th>3</th>\n",
       "      <td>0</td>\n",
       "      <td>NaN</td>\n",
       "      <td>1</td>\n",
       "      <td>0.0</td>\n",
       "      <td>0.00000</td>\n",
       "      <td>0.0</td>\n",
       "      <td>0.00000</td>\n",
       "      <td>42</td>\n",
       "      <td>42</td>\n",
       "      <td>0</td>\n",
       "      <td>0</td>\n",
       "      <td>17</td>\n",
       "      <td>35</td>\n",
       "      <td>0</td>\n",
       "    </tr>\n",
       "    <tr>\n",
       "      <th>4</th>\n",
       "      <td>0</td>\n",
       "      <td>NaN</td>\n",
       "      <td>3</td>\n",
       "      <td>0.0</td>\n",
       "      <td>45.47917</td>\n",
       "      <td>0.0</td>\n",
       "      <td>-34.14473</td>\n",
       "      <td>64</td>\n",
       "      <td>64</td>\n",
       "      <td>0</td>\n",
       "      <td>1</td>\n",
       "      <td>100</td>\n",
       "      <td>298</td>\n",
       "      <td>0</td>\n",
       "    </tr>\n",
       "  </tbody>\n",
       "</table>\n",
       "</div>"
      ],
      "text/plain": [
       "   isbuyer  buy_freq  visit_freq  buy_interval  sv_interval  \\\n",
       "0        0       NaN           1           0.0      0.00000   \n",
       "1        0       NaN           1           0.0      0.00000   \n",
       "2        0       NaN           2           0.0      0.50000   \n",
       "3        0       NaN           1           0.0      0.00000   \n",
       "4        0       NaN           3           0.0     45.47917   \n",
       "\n",
       "   expected_time_buy  expected_time_visit  last_buy  last_visit  multiple_buy  \\\n",
       "0                0.0              0.00000       106         106             0   \n",
       "1                0.0              0.00000         6           6             0   \n",
       "2                0.0           -101.14930       101         101             0   \n",
       "3                0.0              0.00000        42          42             0   \n",
       "4                0.0            -34.14473        64          64             0   \n",
       "\n",
       "   multiple_visit  uniq_urls  num_checkins  y_buy  \n",
       "0               0        169          2130      0  \n",
       "1               0        150           539      0  \n",
       "2               1        103           362      0  \n",
       "3               0         17            35      0  \n",
       "4               1        100           298      0  "
      ]
     },
     "execution_count": 353,
     "metadata": {},
     "output_type": "execute_result"
    }
   ],
   "source": [
    "ads_train.head()"
   ]
  },
  {
   "cell_type": "code",
   "execution_count": 355,
   "metadata": {},
   "outputs": [
    {
     "data": {
      "image/png": "[encoded data removed]",
      "text/plain": [
       "<Figure size 432x288 with 16 Axes>"
      ]
     },
     "metadata": {
      "needs_background": "light"
     },
     "output_type": "display_data"
    }
   ],
   "source": [
    "# 数据分布情况\n",
    "\"\"\"\n",
    "很多特征都没有数据，我们想看看这些没有数据的，是否能够体现出buyers来。可以考虑画这些图的outlier(boxplot等)，看是否和buyers相关。\n",
    "\"\"\"\n",
    "ads_train.hist(bins=15, color='red', edgecolor='black', linewidth=1.0,\n",
    "              xlabelsize=8, ylabelsize=8, grid=False)    \n",
    "plt.tight_layout(rect=(0, 0, 1.2, 1.2))   \n",
    "rt = plt.suptitle('histogram graph', x=0.65, y=1.25, fontsize=14)  "
   ]
  },
  {
   "cell_type": "code",
   "execution_count": 366,
   "metadata": {},
   "outputs": [
    {
     "data": {
      "text/html": [
       "<div>\n",
       "<style scoped>\n",
       "    .dataframe tbody tr th:only-of-type {\n",
       "        vertical-align: middle;\n",
       "    }\n",
       "\n",
       "    .dataframe tbody tr th {\n",
       "        vertical-align: top;\n",
       "    }\n",
       "\n",
       "    .dataframe thead th {\n",
       "        text-align: right;\n",
       "    }\n",
       "</style>\n",
       "<table border=\"1\" class=\"dataframe\">\n",
       "  <thead>\n",
       "    <tr style=\"text-align: right;\">\n",
       "      <th></th>\n",
       "      <th>isbuyer</th>\n",
       "      <th>buy_freq</th>\n",
       "      <th>visit_freq</th>\n",
       "      <th>buy_interval</th>\n",
       "      <th>sv_interval</th>\n",
       "      <th>expected_time_buy</th>\n",
       "      <th>expected_time_visit</th>\n",
       "      <th>last_buy</th>\n",
       "      <th>last_visit</th>\n",
       "      <th>multiple_buy</th>\n",
       "      <th>multiple_visit</th>\n",
       "      <th>uniq_urls</th>\n",
       "      <th>num_checkins</th>\n",
       "      <th>y_buy</th>\n",
       "    </tr>\n",
       "  </thead>\n",
       "  <tbody>\n",
       "    <tr>\n",
       "      <th>count</th>\n",
       "      <td>38209.000000</td>\n",
       "      <td>1620.000000</td>\n",
       "      <td>38209.000000</td>\n",
       "      <td>38209.000000</td>\n",
       "      <td>38209.000000</td>\n",
       "      <td>38209.000000</td>\n",
       "      <td>38209.000000</td>\n",
       "      <td>38209.000000</td>\n",
       "      <td>38209.000000</td>\n",
       "      <td>38209.000000</td>\n",
       "      <td>38209.000000</td>\n",
       "      <td>38209.000000</td>\n",
       "      <td>38209.000000</td>\n",
       "      <td>38209.000000</td>\n",
       "    </tr>\n",
       "    <tr>\n",
       "      <th>mean</th>\n",
       "      <td>0.042398</td>\n",
       "      <td>1.239506</td>\n",
       "      <td>1.868199</td>\n",
       "      <td>0.197411</td>\n",
       "      <td>5.862179</td>\n",
       "      <td>-0.174376</td>\n",
       "      <td>-10.136685</td>\n",
       "      <td>64.657384</td>\n",
       "      <td>64.657384</td>\n",
       "      <td>0.005967</td>\n",
       "      <td>0.277526</td>\n",
       "      <td>86.594624</td>\n",
       "      <td>723.834515</td>\n",
       "      <td>0.004502</td>\n",
       "    </tr>\n",
       "    <tr>\n",
       "      <th>std</th>\n",
       "      <td>0.201499</td>\n",
       "      <td>0.840259</td>\n",
       "      <td>2.996675</td>\n",
       "      <td>3.855662</td>\n",
       "      <td>17.726455</td>\n",
       "      <td>4.784059</td>\n",
       "      <td>31.796845</td>\n",
       "      <td>53.453475</td>\n",
       "      <td>53.453475</td>\n",
       "      <td>0.077018</td>\n",
       "      <td>0.447784</td>\n",
       "      <td>61.941089</td>\n",
       "      <td>1286.380572</td>\n",
       "      <td>0.066943</td>\n",
       "    </tr>\n",
       "    <tr>\n",
       "      <th>min</th>\n",
       "      <td>0.000000</td>\n",
       "      <td>1.000000</td>\n",
       "      <td>0.000000</td>\n",
       "      <td>0.000000</td>\n",
       "      <td>0.000000</td>\n",
       "      <td>-181.923800</td>\n",
       "      <td>-187.615600</td>\n",
       "      <td>0.000000</td>\n",
       "      <td>0.000000</td>\n",
       "      <td>0.000000</td>\n",
       "      <td>0.000000</td>\n",
       "      <td>-1.000000</td>\n",
       "      <td>1.000000</td>\n",
       "      <td>0.000000</td>\n",
       "    </tr>\n",
       "    <tr>\n",
       "      <th>25%</th>\n",
       "      <td>0.000000</td>\n",
       "      <td>1.000000</td>\n",
       "      <td>1.000000</td>\n",
       "      <td>0.000000</td>\n",
       "      <td>0.000000</td>\n",
       "      <td>0.000000</td>\n",
       "      <td>0.000000</td>\n",
       "      <td>18.000000</td>\n",
       "      <td>18.000000</td>\n",
       "      <td>0.000000</td>\n",
       "      <td>0.000000</td>\n",
       "      <td>30.000000</td>\n",
       "      <td>127.000000</td>\n",
       "      <td>0.000000</td>\n",
       "    </tr>\n",
       "    <tr>\n",
       "      <th>50%</th>\n",
       "      <td>0.000000</td>\n",
       "      <td>1.000000</td>\n",
       "      <td>1.000000</td>\n",
       "      <td>0.000000</td>\n",
       "      <td>0.000000</td>\n",
       "      <td>0.000000</td>\n",
       "      <td>0.000000</td>\n",
       "      <td>50.000000</td>\n",
       "      <td>50.000000</td>\n",
       "      <td>0.000000</td>\n",
       "      <td>0.000000</td>\n",
       "      <td>75.000000</td>\n",
       "      <td>319.000000</td>\n",
       "      <td>0.000000</td>\n",
       "    </tr>\n",
       "    <tr>\n",
       "      <th>75%</th>\n",
       "      <td>0.000000</td>\n",
       "      <td>1.000000</td>\n",
       "      <td>2.000000</td>\n",
       "      <td>0.000000</td>\n",
       "      <td>0.125000</td>\n",
       "      <td>0.000000</td>\n",
       "      <td>0.000000</td>\n",
       "      <td>105.000000</td>\n",
       "      <td>105.000000</td>\n",
       "      <td>0.000000</td>\n",
       "      <td>1.000000</td>\n",
       "      <td>155.000000</td>\n",
       "      <td>803.000000</td>\n",
       "      <td>0.000000</td>\n",
       "    </tr>\n",
       "    <tr>\n",
       "      <th>max</th>\n",
       "      <td>1.000000</td>\n",
       "      <td>15.000000</td>\n",
       "      <td>84.000000</td>\n",
       "      <td>174.625000</td>\n",
       "      <td>184.916700</td>\n",
       "      <td>84.285710</td>\n",
       "      <td>91.401920</td>\n",
       "      <td>188.000000</td>\n",
       "      <td>188.000000</td>\n",
       "      <td>1.000000</td>\n",
       "      <td>1.000000</td>\n",
       "      <td>206.000000</td>\n",
       "      <td>37091.000000</td>\n",
       "      <td>1.000000</td>\n",
       "    </tr>\n",
       "  </tbody>\n",
       "</table>\n",
       "</div>"
      ],
      "text/plain": [
       "            isbuyer     buy_freq    visit_freq  buy_interval   sv_interval  \\\n",
       "count  38209.000000  1620.000000  38209.000000  38209.000000  38209.000000   \n",
       "mean       0.042398     1.239506      1.868199      0.197411      5.862179   \n",
       "std        0.201499     0.840259      2.996675      3.855662     17.726455   \n",
       "min        0.000000     1.000000      0.000000      0.000000      0.000000   \n",
       "25%        0.000000     1.000000      1.000000      0.000000      0.000000   \n",
       "50%        0.000000     1.000000      1.000000      0.000000      0.000000   \n",
       "75%        0.000000     1.000000      2.000000      0.000000      0.125000   \n",
       "max        1.000000    15.000000     84.000000    174.625000    184.916700   \n",
       "\n",
       "       expected_time_buy  expected_time_visit      last_buy    last_visit  \\\n",
       "count       38209.000000         38209.000000  38209.000000  38209.000000   \n",
       "mean           -0.174376           -10.136685     64.657384     64.657384   \n",
       "std             4.784059            31.796845     53.453475     53.453475   \n",
       "min          -181.923800          -187.615600      0.000000      0.000000   \n",
       "25%             0.000000             0.000000     18.000000     18.000000   \n",
       "50%             0.000000             0.000000     50.000000     50.000000   \n",
       "75%             0.000000             0.000000    105.000000    105.000000   \n",
       "max            84.285710            91.401920    188.000000    188.000000   \n",
       "\n",
       "       multiple_buy  multiple_visit     uniq_urls  num_checkins         y_buy  \n",
       "count  38209.000000    38209.000000  38209.000000  38209.000000  38209.000000  \n",
       "mean       0.005967        0.277526     86.594624    723.834515      0.004502  \n",
       "std        0.077018        0.447784     61.941089   1286.380572      0.066943  \n",
       "min        0.000000        0.000000     -1.000000      1.000000      0.000000  \n",
       "25%        0.000000        0.000000     30.000000    127.000000      0.000000  \n",
       "50%        0.000000        0.000000     75.000000    319.000000      0.000000  \n",
       "75%        0.000000        1.000000    155.000000    803.000000      0.000000  \n",
       "max        1.000000        1.000000    206.000000  37091.000000      1.000000  "
      ]
     },
     "execution_count": 366,
     "metadata": {},
     "output_type": "execute_result"
    }
   ],
   "source": [
    "# 从百分位数中可以看出来，特征中的数据，除了last_buy, last_vist, uniq_urls, num_checkins外，其他的分布极其不平衡\n",
    "# num_checkins有数据很大，可以看下\n",
    "ads_train.describe()"
   ]
  },
  {
   "cell_type": "code",
   "execution_count": 479,
   "metadata": {},
   "outputs": [
    {
     "name": "stdout",
     "output_type": "stream",
     "text": [
      "Counter({0: 38037, 1: 172})\n"
     ]
    }
   ],
   "source": [
    "X = ads_train.drop('y_buy',axis=1)\n",
    "y = ads_train['y_buy']\n",
    "from collections import Counter\n",
    "# 查看所生成的样本类别分布，0和1样本比例222比1，属于类别极不平衡数据\n",
    "print(Counter(y))"
   ]
  },
  {
   "cell_type": "code",
   "execution_count": 380,
   "metadata": {},
   "outputs": [
    {
     "name": "stderr",
     "output_type": "stream",
     "text": [
      "/home/shawn/anaconda3/envs/python36/lib/python3.6/site-packages/ipykernel_launcher.py:1: RuntimeWarning: divide by zero encountered in log\n",
      "  \"\"\"Entry point for launching an IPython kernel.\n",
      "/home/shawn/anaconda3/envs/python36/lib/python3.6/site-packages/ipykernel_launcher.py:2: RuntimeWarning: divide by zero encountered in log\n",
      "  \n"
     ]
    },
    {
     "data": {
      "text/plain": [
       "Counter({0: 5139, 1: 104})"
      ]
     },
     "execution_count": 380,
     "metadata": {},
     "output_type": "execute_result"
    },
    {
     "data": {
      "image/png": "[encoded data removed]",
      "text/plain": [
       "<Figure size 432x288 with 1 Axes>"
      ]
     },
     "metadata": {
      "needs_background": "light"
     },
     "output_type": "display_data"
    }
   ],
   "source": [
    "sns.boxplot(x=np.log(X['visit_freq']))\n",
    "Counter(ads_train[np.log(ads_train['visit_freq'])>1]['y_buy'])"
   ]
  },
  {
   "cell_type": "code",
   "execution_count": 376,
   "metadata": {},
   "outputs": [
    {
     "data": {
      "text/plain": [
       "<matplotlib.axes._subplots.AxesSubplot at 0x7fd20f848160>"
      ]
     },
     "execution_count": 376,
     "metadata": {},
     "output_type": "execute_result"
    },
    {
     "data": {
      "image/png": "[encoded data removed]",
      "text/plain": [
       "<Figure size 432x288 with 2 Axes>"
      ]
     },
     "metadata": {
      "needs_background": "light"
     },
     "output_type": "display_data"
    }
   ],
   "source": [
    "# 我们对num_checkins做log，可以看到outliers\n",
    "fig, axs = plt.subplots(ncols=2)\n",
    "sns.boxplot(x=X['num_checkins'], ax=axs[0])\n",
    "sns.boxplot(x=np.log(X['num_checkins']), ax=axs[1])"
   ]
  },
  {
   "cell_type": "code",
   "execution_count": 371,
   "metadata": {},
   "outputs": [
    {
     "data": {
      "text/plain": [
       "((172, 13), (38037, 13))"
      ]
     },
     "execution_count": 371,
     "metadata": {},
     "output_type": "execute_result"
    }
   ],
   "source": [
    "\"\"\"\n",
    "((172, 13), (38037, 13)) 正负样本极其不均衡，购买者的数据很少, 仅0.45%。\n",
    "\"\"\"\n",
    "is_buyer.shape, not_buyer.shape"
   ]
  },
  {
   "cell_type": "code",
   "execution_count": 377,
   "metadata": {},
   "outputs": [
    {
     "data": {
      "text/html": [
       "<div>\n",
       "<style scoped>\n",
       "    .dataframe tbody tr th:only-of-type {\n",
       "        vertical-align: middle;\n",
       "    }\n",
       "\n",
       "    .dataframe tbody tr th {\n",
       "        vertical-align: top;\n",
       "    }\n",
       "\n",
       "    .dataframe thead tr th {\n",
       "        text-align: left;\n",
       "    }\n",
       "</style>\n",
       "<table border=\"1\" class=\"dataframe\">\n",
       "  <thead>\n",
       "    <tr>\n",
       "      <th></th>\n",
       "      <th colspan=\"10\" halign=\"left\">is_buyer_desc</th>\n",
       "      <th>...</th>\n",
       "      <th colspan=\"10\" halign=\"left\">not_buyer_desc</th>\n",
       "    </tr>\n",
       "    <tr>\n",
       "      <th></th>\n",
       "      <th>isbuyer</th>\n",
       "      <th>buy_freq</th>\n",
       "      <th>visit_freq</th>\n",
       "      <th>buy_interval</th>\n",
       "      <th>sv_interval</th>\n",
       "      <th>expected_time_buy</th>\n",
       "      <th>expected_time_visit</th>\n",
       "      <th>last_buy</th>\n",
       "      <th>last_visit</th>\n",
       "      <th>multiple_buy</th>\n",
       "      <th>...</th>\n",
       "      <th>sv_interval</th>\n",
       "      <th>expected_time_buy</th>\n",
       "      <th>expected_time_visit</th>\n",
       "      <th>last_buy</th>\n",
       "      <th>last_visit</th>\n",
       "      <th>multiple_buy</th>\n",
       "      <th>multiple_visit</th>\n",
       "      <th>uniq_urls</th>\n",
       "      <th>num_checkins</th>\n",
       "      <th>y_buy</th>\n",
       "    </tr>\n",
       "  </thead>\n",
       "  <tbody>\n",
       "    <tr>\n",
       "      <th>count</th>\n",
       "      <td>172.0000</td>\n",
       "      <td>63.0000</td>\n",
       "      <td>172.0000</td>\n",
       "      <td>172.0000</td>\n",
       "      <td>172.0000</td>\n",
       "      <td>172.0000</td>\n",
       "      <td>172.0000</td>\n",
       "      <td>172.0000</td>\n",
       "      <td>172.0000</td>\n",
       "      <td>172.0000</td>\n",
       "      <td>...</td>\n",
       "      <td>172.0000</td>\n",
       "      <td>172.0000</td>\n",
       "      <td>172.0000</td>\n",
       "      <td>172.0000</td>\n",
       "      <td>172.0000</td>\n",
       "      <td>172.0000</td>\n",
       "      <td>172.0000</td>\n",
       "      <td>172.0000</td>\n",
       "      <td>172.0000</td>\n",
       "      <td>172.0</td>\n",
       "    </tr>\n",
       "    <tr>\n",
       "      <th>mean</th>\n",
       "      <td>0.3663</td>\n",
       "      <td>1.8254</td>\n",
       "      <td>7.3663</td>\n",
       "      <td>4.7012</td>\n",
       "      <td>7.9720</td>\n",
       "      <td>-3.5378</td>\n",
       "      <td>-5.2691</td>\n",
       "      <td>20.2674</td>\n",
       "      <td>20.2674</td>\n",
       "      <td>0.1453</td>\n",
       "      <td>...</td>\n",
       "      <td>7.9720</td>\n",
       "      <td>-3.5378</td>\n",
       "      <td>-5.2691</td>\n",
       "      <td>20.2674</td>\n",
       "      <td>20.2674</td>\n",
       "      <td>0.1453</td>\n",
       "      <td>0.7151</td>\n",
       "      <td>66.5058</td>\n",
       "      <td>545.3547</td>\n",
       "      <td>1.0</td>\n",
       "    </tr>\n",
       "    <tr>\n",
       "      <th>std</th>\n",
       "      <td>0.4832</td>\n",
       "      <td>1.9719</td>\n",
       "      <td>10.3951</td>\n",
       "      <td>17.2162</td>\n",
       "      <td>11.6503</td>\n",
       "      <td>17.5976</td>\n",
       "      <td>25.7413</td>\n",
       "      <td>36.4279</td>\n",
       "      <td>36.4279</td>\n",
       "      <td>0.3535</td>\n",
       "      <td>...</td>\n",
       "      <td>11.6503</td>\n",
       "      <td>17.5976</td>\n",
       "      <td>25.7413</td>\n",
       "      <td>36.4279</td>\n",
       "      <td>36.4279</td>\n",
       "      <td>0.3535</td>\n",
       "      <td>0.4527</td>\n",
       "      <td>60.6795</td>\n",
       "      <td>912.3537</td>\n",
       "      <td>0.0</td>\n",
       "    </tr>\n",
       "    <tr>\n",
       "      <th>min</th>\n",
       "      <td>0.0000</td>\n",
       "      <td>1.0000</td>\n",
       "      <td>0.0000</td>\n",
       "      <td>0.0000</td>\n",
       "      <td>0.0000</td>\n",
       "      <td>-115.2760</td>\n",
       "      <td>-182.2078</td>\n",
       "      <td>0.0000</td>\n",
       "      <td>0.0000</td>\n",
       "      <td>0.0000</td>\n",
       "      <td>...</td>\n",
       "      <td>0.0000</td>\n",
       "      <td>-115.2760</td>\n",
       "      <td>-182.2078</td>\n",
       "      <td>0.0000</td>\n",
       "      <td>0.0000</td>\n",
       "      <td>0.0000</td>\n",
       "      <td>0.0000</td>\n",
       "      <td>-1.0000</td>\n",
       "      <td>9.0000</td>\n",
       "      <td>1.0</td>\n",
       "    </tr>\n",
       "    <tr>\n",
       "      <th>25%</th>\n",
       "      <td>0.0000</td>\n",
       "      <td>1.0000</td>\n",
       "      <td>1.0000</td>\n",
       "      <td>0.0000</td>\n",
       "      <td>0.0000</td>\n",
       "      <td>0.0000</td>\n",
       "      <td>-1.3905</td>\n",
       "      <td>0.0000</td>\n",
       "      <td>0.0000</td>\n",
       "      <td>0.0000</td>\n",
       "      <td>...</td>\n",
       "      <td>0.0000</td>\n",
       "      <td>0.0000</td>\n",
       "      <td>-1.3905</td>\n",
       "      <td>0.0000</td>\n",
       "      <td>0.0000</td>\n",
       "      <td>0.0000</td>\n",
       "      <td>0.0000</td>\n",
       "      <td>15.0000</td>\n",
       "      <td>82.0000</td>\n",
       "      <td>1.0</td>\n",
       "    </tr>\n",
       "    <tr>\n",
       "      <th>50%</th>\n",
       "      <td>0.0000</td>\n",
       "      <td>1.0000</td>\n",
       "      <td>4.0000</td>\n",
       "      <td>0.0000</td>\n",
       "      <td>3.5396</td>\n",
       "      <td>0.0000</td>\n",
       "      <td>0.0000</td>\n",
       "      <td>4.0000</td>\n",
       "      <td>4.0000</td>\n",
       "      <td>0.0000</td>\n",
       "      <td>...</td>\n",
       "      <td>3.5396</td>\n",
       "      <td>0.0000</td>\n",
       "      <td>0.0000</td>\n",
       "      <td>4.0000</td>\n",
       "      <td>4.0000</td>\n",
       "      <td>0.0000</td>\n",
       "      <td>1.0000</td>\n",
       "      <td>42.0000</td>\n",
       "      <td>240.5000</td>\n",
       "      <td>1.0</td>\n",
       "    </tr>\n",
       "    <tr>\n",
       "      <th>75%</th>\n",
       "      <td>1.0000</td>\n",
       "      <td>2.0000</td>\n",
       "      <td>9.0000</td>\n",
       "      <td>0.0000</td>\n",
       "      <td>11.9102</td>\n",
       "      <td>0.0000</td>\n",
       "      <td>3.2798</td>\n",
       "      <td>21.2500</td>\n",
       "      <td>21.2500</td>\n",
       "      <td>0.0000</td>\n",
       "      <td>...</td>\n",
       "      <td>11.9102</td>\n",
       "      <td>0.0000</td>\n",
       "      <td>3.2798</td>\n",
       "      <td>21.2500</td>\n",
       "      <td>21.2500</td>\n",
       "      <td>0.0000</td>\n",
       "      <td>1.0000</td>\n",
       "      <td>115.0000</td>\n",
       "      <td>565.7500</td>\n",
       "      <td>1.0</td>\n",
       "    </tr>\n",
       "    <tr>\n",
       "      <th>max</th>\n",
       "      <td>1.0000</td>\n",
       "      <td>15.0000</td>\n",
       "      <td>65.0000</td>\n",
       "      <td>155.0833</td>\n",
       "      <td>85.7708</td>\n",
       "      <td>52.5074</td>\n",
       "      <td>57.1615</td>\n",
       "      <td>182.0000</td>\n",
       "      <td>182.0000</td>\n",
       "      <td>1.0000</td>\n",
       "      <td>...</td>\n",
       "      <td>85.7708</td>\n",
       "      <td>52.5074</td>\n",
       "      <td>57.1615</td>\n",
       "      <td>182.0000</td>\n",
       "      <td>182.0000</td>\n",
       "      <td>1.0000</td>\n",
       "      <td>1.0000</td>\n",
       "      <td>189.0000</td>\n",
       "      <td>6516.0000</td>\n",
       "      <td>1.0</td>\n",
       "    </tr>\n",
       "  </tbody>\n",
       "</table>\n",
       "<p>8 rows × 28 columns</p>\n",
       "</div>"
      ],
      "text/plain": [
       "      is_buyer_desc                                               \\\n",
       "            isbuyer buy_freq visit_freq buy_interval sv_interval   \n",
       "count      172.0000  63.0000   172.0000     172.0000    172.0000   \n",
       "mean         0.3663   1.8254     7.3663       4.7012      7.9720   \n",
       "std          0.4832   1.9719    10.3951      17.2162     11.6503   \n",
       "min          0.0000   1.0000     0.0000       0.0000      0.0000   \n",
       "25%          0.0000   1.0000     1.0000       0.0000      0.0000   \n",
       "50%          0.0000   1.0000     4.0000       0.0000      3.5396   \n",
       "75%          1.0000   2.0000     9.0000       0.0000     11.9102   \n",
       "max          1.0000  15.0000    65.0000     155.0833     85.7708   \n",
       "\n",
       "                                                                               \\\n",
       "      expected_time_buy expected_time_visit  last_buy last_visit multiple_buy   \n",
       "count          172.0000            172.0000  172.0000   172.0000     172.0000   \n",
       "mean            -3.5378             -5.2691   20.2674    20.2674       0.1453   \n",
       "std             17.5976             25.7413   36.4279    36.4279       0.3535   \n",
       "min           -115.2760           -182.2078    0.0000     0.0000       0.0000   \n",
       "25%              0.0000             -1.3905    0.0000     0.0000       0.0000   \n",
       "50%              0.0000              0.0000    4.0000     4.0000       0.0000   \n",
       "75%              0.0000              3.2798   21.2500    21.2500       0.0000   \n",
       "max             52.5074             57.1615  182.0000   182.0000       1.0000   \n",
       "\n",
       "       ...   not_buyer_desc                                                  \\\n",
       "       ...      sv_interval expected_time_buy expected_time_visit  last_buy   \n",
       "count  ...         172.0000          172.0000            172.0000  172.0000   \n",
       "mean   ...           7.9720           -3.5378             -5.2691   20.2674   \n",
       "std    ...          11.6503           17.5976             25.7413   36.4279   \n",
       "min    ...           0.0000         -115.2760           -182.2078    0.0000   \n",
       "25%    ...           0.0000            0.0000             -1.3905    0.0000   \n",
       "50%    ...           3.5396            0.0000              0.0000    4.0000   \n",
       "75%    ...          11.9102            0.0000              3.2798   21.2500   \n",
       "max    ...          85.7708           52.5074             57.1615  182.0000   \n",
       "\n",
       "                                                                            \n",
       "      last_visit multiple_buy multiple_visit uniq_urls num_checkins  y_buy  \n",
       "count   172.0000     172.0000       172.0000  172.0000     172.0000  172.0  \n",
       "mean     20.2674       0.1453         0.7151   66.5058     545.3547    1.0  \n",
       "std      36.4279       0.3535         0.4527   60.6795     912.3537    0.0  \n",
       "min       0.0000       0.0000         0.0000   -1.0000       9.0000    1.0  \n",
       "25%       0.0000       0.0000         0.0000   15.0000      82.0000    1.0  \n",
       "50%       4.0000       0.0000         1.0000   42.0000     240.5000    1.0  \n",
       "75%      21.2500       0.0000         1.0000  115.0000     565.7500    1.0  \n",
       "max     182.0000       1.0000         1.0000  189.0000    6516.0000    1.0  \n",
       "\n",
       "[8 rows x 28 columns]"
      ]
     },
     "execution_count": 377,
     "metadata": {},
     "output_type": "execute_result"
    }
   ],
   "source": [
    "is_buyer = ads_train[ads_train['y_buy']==1]\n",
    "not_buyer = ads_train[ads_train['y_buy']==0]\n",
    "is_buyer_desc = round(is_buyer.describe(), 4)\n",
    "not_buyer_desc = round(not_buyer.describe(), 4)\n",
    "pd.concat([is_buyer_desc, is_buyer_desc], axis=1, keys=['is_buyer_desc', 'not_buyer_desc'])"
   ]
  },
  {
   "cell_type": "code",
   "execution_count": 93,
   "metadata": {},
   "outputs": [
    {
     "data": {
      "text/html": [
       "<div>\n",
       "<style scoped>\n",
       "    .dataframe tbody tr th:only-of-type {\n",
       "        vertical-align: middle;\n",
       "    }\n",
       "\n",
       "    .dataframe tbody tr th {\n",
       "        vertical-align: top;\n",
       "    }\n",
       "\n",
       "    .dataframe thead th {\n",
       "        text-align: right;\n",
       "    }\n",
       "</style>\n",
       "<table border=\"1\" class=\"dataframe\">\n",
       "  <thead>\n",
       "    <tr style=\"text-align: right;\">\n",
       "      <th></th>\n",
       "      <th>isbuyer</th>\n",
       "      <th>visit_freq</th>\n",
       "      <th>buy_interval</th>\n",
       "      <th>sv_interval</th>\n",
       "      <th>expected_time_buy</th>\n",
       "      <th>expected_time_visit</th>\n",
       "      <th>last_buy</th>\n",
       "      <th>last_visit</th>\n",
       "      <th>multiple_buy</th>\n",
       "      <th>multiple_visit</th>\n",
       "      <th>uniq_urls</th>\n",
       "      <th>num_checkins</th>\n",
       "      <th>y_buy</th>\n",
       "    </tr>\n",
       "  </thead>\n",
       "  <tbody>\n",
       "    <tr>\n",
       "      <th>count</th>\n",
       "      <td>172.0000</td>\n",
       "      <td>172.0000</td>\n",
       "      <td>172.0000</td>\n",
       "      <td>172.0000</td>\n",
       "      <td>172.0000</td>\n",
       "      <td>172.0000</td>\n",
       "      <td>172.0000</td>\n",
       "      <td>172.0000</td>\n",
       "      <td>172.0000</td>\n",
       "      <td>172.0000</td>\n",
       "      <td>172.0000</td>\n",
       "      <td>172.0000</td>\n",
       "      <td>172.0</td>\n",
       "    </tr>\n",
       "    <tr>\n",
       "      <th>mean</th>\n",
       "      <td>0.3663</td>\n",
       "      <td>7.3663</td>\n",
       "      <td>4.7012</td>\n",
       "      <td>7.9720</td>\n",
       "      <td>-3.5378</td>\n",
       "      <td>-5.2691</td>\n",
       "      <td>20.2674</td>\n",
       "      <td>20.2674</td>\n",
       "      <td>0.1453</td>\n",
       "      <td>0.7151</td>\n",
       "      <td>66.5058</td>\n",
       "      <td>545.3547</td>\n",
       "      <td>1.0</td>\n",
       "    </tr>\n",
       "    <tr>\n",
       "      <th>std</th>\n",
       "      <td>0.4832</td>\n",
       "      <td>10.3951</td>\n",
       "      <td>17.2162</td>\n",
       "      <td>11.6503</td>\n",
       "      <td>17.5976</td>\n",
       "      <td>25.7413</td>\n",
       "      <td>36.4279</td>\n",
       "      <td>36.4279</td>\n",
       "      <td>0.3535</td>\n",
       "      <td>0.4527</td>\n",
       "      <td>60.6795</td>\n",
       "      <td>912.3537</td>\n",
       "      <td>0.0</td>\n",
       "    </tr>\n",
       "    <tr>\n",
       "      <th>min</th>\n",
       "      <td>0.0000</td>\n",
       "      <td>0.0000</td>\n",
       "      <td>0.0000</td>\n",
       "      <td>0.0000</td>\n",
       "      <td>-115.2760</td>\n",
       "      <td>-182.2078</td>\n",
       "      <td>0.0000</td>\n",
       "      <td>0.0000</td>\n",
       "      <td>0.0000</td>\n",
       "      <td>0.0000</td>\n",
       "      <td>-1.0000</td>\n",
       "      <td>9.0000</td>\n",
       "      <td>1.0</td>\n",
       "    </tr>\n",
       "    <tr>\n",
       "      <th>25%</th>\n",
       "      <td>0.0000</td>\n",
       "      <td>1.0000</td>\n",
       "      <td>0.0000</td>\n",
       "      <td>0.0000</td>\n",
       "      <td>0.0000</td>\n",
       "      <td>-1.3905</td>\n",
       "      <td>0.0000</td>\n",
       "      <td>0.0000</td>\n",
       "      <td>0.0000</td>\n",
       "      <td>0.0000</td>\n",
       "      <td>15.0000</td>\n",
       "      <td>82.0000</td>\n",
       "      <td>1.0</td>\n",
       "    </tr>\n",
       "    <tr>\n",
       "      <th>50%</th>\n",
       "      <td>0.0000</td>\n",
       "      <td>4.0000</td>\n",
       "      <td>0.0000</td>\n",
       "      <td>3.5396</td>\n",
       "      <td>0.0000</td>\n",
       "      <td>0.0000</td>\n",
       "      <td>4.0000</td>\n",
       "      <td>4.0000</td>\n",
       "      <td>0.0000</td>\n",
       "      <td>1.0000</td>\n",
       "      <td>42.0000</td>\n",
       "      <td>240.5000</td>\n",
       "      <td>1.0</td>\n",
       "    </tr>\n",
       "    <tr>\n",
       "      <th>75%</th>\n",
       "      <td>1.0000</td>\n",
       "      <td>9.0000</td>\n",
       "      <td>0.0000</td>\n",
       "      <td>11.9102</td>\n",
       "      <td>0.0000</td>\n",
       "      <td>3.2798</td>\n",
       "      <td>21.2500</td>\n",
       "      <td>21.2500</td>\n",
       "      <td>0.0000</td>\n",
       "      <td>1.0000</td>\n",
       "      <td>115.0000</td>\n",
       "      <td>565.7500</td>\n",
       "      <td>1.0</td>\n",
       "    </tr>\n",
       "    <tr>\n",
       "      <th>max</th>\n",
       "      <td>1.0000</td>\n",
       "      <td>65.0000</td>\n",
       "      <td>155.0833</td>\n",
       "      <td>85.7708</td>\n",
       "      <td>52.5074</td>\n",
       "      <td>57.1615</td>\n",
       "      <td>182.0000</td>\n",
       "      <td>182.0000</td>\n",
       "      <td>1.0000</td>\n",
       "      <td>1.0000</td>\n",
       "      <td>189.0000</td>\n",
       "      <td>6516.0000</td>\n",
       "      <td>1.0</td>\n",
       "    </tr>\n",
       "  </tbody>\n",
       "</table>\n",
       "</div>"
      ],
      "text/plain": [
       "        isbuyer  visit_freq  buy_interval  sv_interval  expected_time_buy  \\\n",
       "count  172.0000    172.0000      172.0000     172.0000           172.0000   \n",
       "mean     0.3663      7.3663        4.7012       7.9720            -3.5378   \n",
       "std      0.4832     10.3951       17.2162      11.6503            17.5976   \n",
       "min      0.0000      0.0000        0.0000       0.0000          -115.2760   \n",
       "25%      0.0000      1.0000        0.0000       0.0000             0.0000   \n",
       "50%      0.0000      4.0000        0.0000       3.5396             0.0000   \n",
       "75%      1.0000      9.0000        0.0000      11.9102             0.0000   \n",
       "max      1.0000     65.0000      155.0833      85.7708            52.5074   \n",
       "\n",
       "       expected_time_visit  last_buy  last_visit  multiple_buy  \\\n",
       "count             172.0000  172.0000    172.0000      172.0000   \n",
       "mean               -5.2691   20.2674     20.2674        0.1453   \n",
       "std                25.7413   36.4279     36.4279        0.3535   \n",
       "min              -182.2078    0.0000      0.0000        0.0000   \n",
       "25%                -1.3905    0.0000      0.0000        0.0000   \n",
       "50%                 0.0000    4.0000      4.0000        0.0000   \n",
       "75%                 3.2798   21.2500     21.2500        0.0000   \n",
       "max                57.1615  182.0000    182.0000        1.0000   \n",
       "\n",
       "       multiple_visit  uniq_urls  num_checkins  y_buy  \n",
       "count        172.0000   172.0000      172.0000  172.0  \n",
       "mean           0.7151    66.5058      545.3547    1.0  \n",
       "std            0.4527    60.6795      912.3537    0.0  \n",
       "min            0.0000    -1.0000        9.0000    1.0  \n",
       "25%            0.0000    15.0000       82.0000    1.0  \n",
       "50%            1.0000    42.0000      240.5000    1.0  \n",
       "75%            1.0000   115.0000      565.7500    1.0  \n",
       "max            1.0000   189.0000     6516.0000    1.0  "
      ]
     },
     "execution_count": 93,
     "metadata": {},
     "output_type": "execute_result"
    }
   ],
   "source": [
    "\"\"\"\n",
    "我们可以简单的基于mean, percentile,和std预测下，也可以使用统计显著性:\n",
    "1. isbuyer=1的即过去是buyer的，更会购买\n",
    "2. visit_freq大的，更会购买\n",
    "4. sv_interval大的，更会购买。\n",
    "5. last_buy小的，更会购买。\n",
    "6. last_visit小的，更会购买。 (last_buy和last_visit，相关性很高)\n",
    "7. multiple_buy大的，更会购买。\n",
    "8. multiple_visit，更会购买。\n",
    "uniq_urls\tnum_checkins\n",
    "\"\"\"\n",
    "is_buyer_desc"
   ]
  },
  {
   "cell_type": "code",
   "execution_count": 94,
   "metadata": {},
   "outputs": [
    {
     "data": {
      "text/html": [
       "<div>\n",
       "<style scoped>\n",
       "    .dataframe tbody tr th:only-of-type {\n",
       "        vertical-align: middle;\n",
       "    }\n",
       "\n",
       "    .dataframe tbody tr th {\n",
       "        vertical-align: top;\n",
       "    }\n",
       "\n",
       "    .dataframe thead th {\n",
       "        text-align: right;\n",
       "    }\n",
       "</style>\n",
       "<table border=\"1\" class=\"dataframe\">\n",
       "  <thead>\n",
       "    <tr style=\"text-align: right;\">\n",
       "      <th></th>\n",
       "      <th>isbuyer</th>\n",
       "      <th>visit_freq</th>\n",
       "      <th>buy_interval</th>\n",
       "      <th>sv_interval</th>\n",
       "      <th>expected_time_buy</th>\n",
       "      <th>expected_time_visit</th>\n",
       "      <th>last_buy</th>\n",
       "      <th>last_visit</th>\n",
       "      <th>multiple_buy</th>\n",
       "      <th>multiple_visit</th>\n",
       "      <th>uniq_urls</th>\n",
       "      <th>num_checkins</th>\n",
       "      <th>y_buy</th>\n",
       "    </tr>\n",
       "  </thead>\n",
       "  <tbody>\n",
       "    <tr>\n",
       "      <th>count</th>\n",
       "      <td>38037.0000</td>\n",
       "      <td>38037.0000</td>\n",
       "      <td>38037.0000</td>\n",
       "      <td>38037.0000</td>\n",
       "      <td>38037.0000</td>\n",
       "      <td>38037.0000</td>\n",
       "      <td>38037.0000</td>\n",
       "      <td>38037.0000</td>\n",
       "      <td>38037.0000</td>\n",
       "      <td>38037.0000</td>\n",
       "      <td>38037.0000</td>\n",
       "      <td>38037.0000</td>\n",
       "      <td>38037.0</td>\n",
       "    </tr>\n",
       "    <tr>\n",
       "      <th>mean</th>\n",
       "      <td>0.0409</td>\n",
       "      <td>1.8433</td>\n",
       "      <td>0.1770</td>\n",
       "      <td>5.8526</td>\n",
       "      <td>-0.1592</td>\n",
       "      <td>-10.1587</td>\n",
       "      <td>64.8581</td>\n",
       "      <td>64.8581</td>\n",
       "      <td>0.0053</td>\n",
       "      <td>0.2755</td>\n",
       "      <td>86.6855</td>\n",
       "      <td>724.6416</td>\n",
       "      <td>0.0</td>\n",
       "    </tr>\n",
       "    <tr>\n",
       "      <th>std</th>\n",
       "      <td>0.1981</td>\n",
       "      <td>2.8979</td>\n",
       "      <td>3.6754</td>\n",
       "      <td>17.7487</td>\n",
       "      <td>4.6419</td>\n",
       "      <td>31.8202</td>\n",
       "      <td>53.4348</td>\n",
       "      <td>53.4348</td>\n",
       "      <td>0.0729</td>\n",
       "      <td>0.4468</td>\n",
       "      <td>61.9327</td>\n",
       "      <td>1287.7775</td>\n",
       "      <td>0.0</td>\n",
       "    </tr>\n",
       "    <tr>\n",
       "      <th>min</th>\n",
       "      <td>0.0000</td>\n",
       "      <td>0.0000</td>\n",
       "      <td>0.0000</td>\n",
       "      <td>0.0000</td>\n",
       "      <td>-181.9238</td>\n",
       "      <td>-187.6156</td>\n",
       "      <td>0.0000</td>\n",
       "      <td>0.0000</td>\n",
       "      <td>0.0000</td>\n",
       "      <td>0.0000</td>\n",
       "      <td>-1.0000</td>\n",
       "      <td>1.0000</td>\n",
       "      <td>0.0</td>\n",
       "    </tr>\n",
       "    <tr>\n",
       "      <th>25%</th>\n",
       "      <td>0.0000</td>\n",
       "      <td>1.0000</td>\n",
       "      <td>0.0000</td>\n",
       "      <td>0.0000</td>\n",
       "      <td>0.0000</td>\n",
       "      <td>0.0000</td>\n",
       "      <td>18.0000</td>\n",
       "      <td>18.0000</td>\n",
       "      <td>0.0000</td>\n",
       "      <td>0.0000</td>\n",
       "      <td>30.0000</td>\n",
       "      <td>127.0000</td>\n",
       "      <td>0.0</td>\n",
       "    </tr>\n",
       "    <tr>\n",
       "      <th>50%</th>\n",
       "      <td>0.0000</td>\n",
       "      <td>1.0000</td>\n",
       "      <td>0.0000</td>\n",
       "      <td>0.0000</td>\n",
       "      <td>0.0000</td>\n",
       "      <td>0.0000</td>\n",
       "      <td>51.0000</td>\n",
       "      <td>51.0000</td>\n",
       "      <td>0.0000</td>\n",
       "      <td>0.0000</td>\n",
       "      <td>75.0000</td>\n",
       "      <td>319.0000</td>\n",
       "      <td>0.0</td>\n",
       "    </tr>\n",
       "    <tr>\n",
       "      <th>75%</th>\n",
       "      <td>0.0000</td>\n",
       "      <td>2.0000</td>\n",
       "      <td>0.0000</td>\n",
       "      <td>0.0833</td>\n",
       "      <td>0.0000</td>\n",
       "      <td>0.0000</td>\n",
       "      <td>105.0000</td>\n",
       "      <td>105.0000</td>\n",
       "      <td>0.0000</td>\n",
       "      <td>1.0000</td>\n",
       "      <td>155.0000</td>\n",
       "      <td>804.0000</td>\n",
       "      <td>0.0</td>\n",
       "    </tr>\n",
       "    <tr>\n",
       "      <th>max</th>\n",
       "      <td>1.0000</td>\n",
       "      <td>84.0000</td>\n",
       "      <td>174.6250</td>\n",
       "      <td>184.9167</td>\n",
       "      <td>84.2857</td>\n",
       "      <td>91.4019</td>\n",
       "      <td>188.0000</td>\n",
       "      <td>188.0000</td>\n",
       "      <td>1.0000</td>\n",
       "      <td>1.0000</td>\n",
       "      <td>206.0000</td>\n",
       "      <td>37091.0000</td>\n",
       "      <td>0.0</td>\n",
       "    </tr>\n",
       "  </tbody>\n",
       "</table>\n",
       "</div>"
      ],
      "text/plain": [
       "          isbuyer  visit_freq  buy_interval  sv_interval  expected_time_buy  \\\n",
       "count  38037.0000  38037.0000    38037.0000   38037.0000         38037.0000   \n",
       "mean       0.0409      1.8433        0.1770       5.8526            -0.1592   \n",
       "std        0.1981      2.8979        3.6754      17.7487             4.6419   \n",
       "min        0.0000      0.0000        0.0000       0.0000          -181.9238   \n",
       "25%        0.0000      1.0000        0.0000       0.0000             0.0000   \n",
       "50%        0.0000      1.0000        0.0000       0.0000             0.0000   \n",
       "75%        0.0000      2.0000        0.0000       0.0833             0.0000   \n",
       "max        1.0000     84.0000      174.6250     184.9167            84.2857   \n",
       "\n",
       "       expected_time_visit    last_buy  last_visit  multiple_buy  \\\n",
       "count           38037.0000  38037.0000  38037.0000    38037.0000   \n",
       "mean              -10.1587     64.8581     64.8581        0.0053   \n",
       "std                31.8202     53.4348     53.4348        0.0729   \n",
       "min              -187.6156      0.0000      0.0000        0.0000   \n",
       "25%                 0.0000     18.0000     18.0000        0.0000   \n",
       "50%                 0.0000     51.0000     51.0000        0.0000   \n",
       "75%                 0.0000    105.0000    105.0000        0.0000   \n",
       "max                91.4019    188.0000    188.0000        1.0000   \n",
       "\n",
       "       multiple_visit   uniq_urls  num_checkins    y_buy  \n",
       "count      38037.0000  38037.0000    38037.0000  38037.0  \n",
       "mean           0.2755     86.6855      724.6416      0.0  \n",
       "std            0.4468     61.9327     1287.7775      0.0  \n",
       "min            0.0000     -1.0000        1.0000      0.0  \n",
       "25%            0.0000     30.0000      127.0000      0.0  \n",
       "50%            0.0000     75.0000      319.0000      0.0  \n",
       "75%            1.0000    155.0000      804.0000      0.0  \n",
       "max            1.0000    206.0000    37091.0000      0.0  "
      ]
     },
     "execution_count": 94,
     "metadata": {},
     "output_type": "execute_result"
    }
   ],
   "source": [
    "not_buyer_desc"
   ]
  },
  {
   "cell_type": "code",
   "execution_count": 410,
   "metadata": {},
   "outputs": [
    {
     "data": {
      "image/png": "[encoded data removed]",
      "text/plain": [
       "<Figure size 720x432 with 2 Axes>"
      ]
     },
     "metadata": {
      "needs_background": "light"
     },
     "output_type": "display_data"
    }
   ],
   "source": [
    "\"\"\"\n",
    "看线性相关系数，没有高度相关的。\n",
    "0 < x < 0.3 低度相关\n",
    "0.3 < x < 0.8 中度相关\n",
    "\"\"\"\n",
    "f, ax = plt.subplots(figsize=(10, 6))\n",
    "corr = ads_train.corr()\n",
    "hm = sns.heatmap(round(corr,2), annot=True, ax=ax, cmap=\"coolwarm\",fmt='.2f',\n",
    "            linewidths=.05)\n",
    "f.subplots_adjust(top=0.93)\n",
    "t= f.suptitle('Cookies Attributes Correlation Heatmap', fontsize=14)"
   ]
  },
  {
   "cell_type": "code",
   "execution_count": null,
   "metadata": {},
   "outputs": [],
   "source": [
    "def plot_tsne(X, y):\n",
    "    \"\"\"\n",
    "    t-sne数据可视化\n",
    "    \"\"\"\n",
    "    from sklearn.manifold import TSNE\n",
    "    from matplotlib import pyplot as plt\n",
    "    tsne = TSNE(n_components=2, random_state=0)\n",
    "    X_2d = tsne.fit_transform(X)\n",
    "    target_ids = range(2)\n",
    "    plt.figure(figsize=(6, 5))\n",
    "    for i in range(2):\n",
    "        plt.scatter(X_2d[y == i, 0], X_2d[y == i, 1], label=i)\n",
    "    plt.legend()\n",
    "    plt.show()\n",
    "# 数据极其不平衡\n",
    "\"\"\"\n",
    "考虑可以使用\n",
    "1. oversampling\n",
    "2. undersampling\n",
    "3. smote\n",
    "\"\"\"\n",
    "plot_tsne(X, y)"
   ]
  },
  {
   "cell_type": "markdown",
   "metadata": {},
   "source": [
    "# cleaning"
   ]
  },
  {
   "cell_type": "markdown",
   "metadata": {},
   "source": [
    "\n",
    "\n",
    "特征清洗、转换 特征衍生"
   ]
  },
  {
   "cell_type": "markdown",
   "metadata": {},
   "source": [
    "## 1. 数据的清洗和转换"
   ]
  },
  {
   "cell_type": "code",
   "execution_count": 523,
   "metadata": {},
   "outputs": [
    {
     "name": "stdout",
     "output_type": "stream",
     "text": [
      "Counter({0: 38037, 1: 172})\n",
      "Counter({0: 154})\n"
     ]
    }
   ],
   "source": [
    "X = ads_train.drop('y_buy',axis=1)\n",
    "y = ads_train['y_buy']\n",
    "from collections import Counter\n",
    "# 查看所生成的样本类别分布，0和1样本比例222比1，属于类别极不平衡数据\n",
    "print(Counter(y))\n",
    "\n",
    "# fill nan value，使用mean_value作为estimator\n",
    "mean_value = np.mean(X['buy_freq'])\n",
    "X['buy_freq'].fillna(mean_value, inplace=True)\n",
    "\n",
    "# remove outliers, 这么高的check_in不合理。\n",
    "print(Counter(ads_train[np.log(ads_train['num_checkins'])>9]['y_buy']))\n",
    "drop_index = X[np.log(X['num_checkins'])>9].index\n",
    "X = X.drop(drop_index)\n",
    "y = y.drop(drop_index)\n",
    "assert X[np.log(X['num_checkins'])>9].shape[0] == 0\n",
    "assert X.shape[0] == y.shape[0]"
   ]
  },
  {
   "cell_type": "markdown",
   "metadata": {},
   "source": [
    "### 2. 特征衍生: 多项式特征"
   ]
  },
  {
   "cell_type": "code",
   "execution_count": 521,
   "metadata": {},
   "outputs": [
    {
     "name": "stderr",
     "output_type": "stream",
     "text": [
      "/home/shawn/anaconda3/envs/python36/lib/python3.6/site-packages/sklearn/preprocessing/data.py:645: DataConversionWarning: Data with input dtype int64, float64 were all converted to float64 by StandardScaler.\n",
      "  return self.partial_fit(X, y)\n",
      "/home/shawn/anaconda3/envs/python36/lib/python3.6/site-packages/sklearn/base.py:464: DataConversionWarning: Data with input dtype int64, float64 were all converted to float64 by StandardScaler.\n",
      "  return self.fit(X, **fit_params).transform(X)\n"
     ]
    },
    {
     "data": {
      "text/plain": [
       "(38055, 13)"
      ]
     },
     "execution_count": 521,
     "metadata": {},
     "output_type": "execute_result"
    }
   ],
   "source": [
    "# # 标准化：如果数据存在异常值和较多噪音，通过标准化，可以间接通过中心化避免异常值和极端值的影响\n",
    "# from sklearn.preprocessing import StandardScaler\n",
    "# X = StandardScaler().fit_transform(X)\n",
    "# X.shape"
   ]
  },
  {
   "cell_type": "code",
   "execution_count": 462,
   "metadata": {},
   "outputs": [
    {
     "data": {
      "text/plain": [
       "(38055, 105)"
      ]
     },
     "execution_count": 462,
     "metadata": {},
     "output_type": "execute_result"
    }
   ],
   "source": [
    "# from sklearn.preprocessing import PolynomialFeatures\n",
    "# X = PolynomialFeatures().fit_transform(X)\n",
    "# X.shape"
   ]
  },
  {
   "cell_type": "markdown",
   "metadata": {},
   "source": [
    "## 3. feature selection"
   ]
  },
  {
   "cell_type": "code",
   "execution_count": 524,
   "metadata": {},
   "outputs": [
    {
     "data": {
      "text/plain": [
       "(38055, 9)"
      ]
     },
     "execution_count": 524,
     "metadata": {},
     "output_type": "execute_result"
    }
   ],
   "source": [
    "## 3. feature selection\n",
    "### 1. 基于variance\n",
    "from sklearn.feature_selection import VarianceThreshold\n",
    "selector = VarianceThreshold(threshold=3)\n",
    "selector.fit_transform(X)\n",
    "X = X[X.columns[selector.get_support(indices=True)]]\n",
    "X.shape"
   ]
  },
  {
   "cell_type": "code",
   "execution_count": 526,
   "metadata": {},
   "outputs": [
    {
     "data": {
      "text/plain": [
       "Index(['visit_freq', 'buy_interval', 'sv_interval', 'expected_time_buy',\n",
       "       'expected_time_visit', 'last_buy', 'last_visit', 'uniq_urls',\n",
       "       'num_checkins'],\n",
       "      dtype='object')"
      ]
     },
     "execution_count": 526,
     "metadata": {},
     "output_type": "execute_result"
    }
   ],
   "source": [
    "column_names = X.columns\n",
    "column_names"
   ]
  },
  {
   "cell_type": "code",
   "execution_count": 468,
   "metadata": {},
   "outputs": [],
   "source": [
    "def nowtime():\n",
    "    import datetime\n",
    "    return datetime.datetime.now()\n",
    "\n",
    "# confusion matrix\n",
    "def plot_confusion_matrox(y_actual, y_pred):\n",
    "    from sklearn.metrics import confusion_matrix\n",
    "    confusion_matrix = confusion_matrix(y_actual, y_pred)\n",
    "    print(confusion_matrix)\n",
    "    plt.matshow(confusion_matrix)\n",
    "    plt.title('Confusion matrix')\n",
    "    plt.colorbar()\n",
    "    plt.ylabel('True label')\n",
    "    plt.xlabel('Predicted label')\n",
    "    plt.show()"
   ]
  },
  {
   "cell_type": "markdown",
   "metadata": {},
   "source": [
    "## 4. 数据不均衡，需要进行re-sampling。否则效果非常差。"
   ]
  },
  {
   "cell_type": "code",
   "execution_count": null,
   "metadata": {},
   "outputs": [],
   "source": [
    "# training model\n",
    "# 我们使用oversampling中的一种: smote。\n",
    "# 主要利用positive sample去生成假的positive sample\n",
    "rs = 123\n",
    "smo = SMOTE(random_state=rs)\n",
    "X_train, X_test, y_train, y_test = train_test_split(X,y)\n",
    "X_smo, y_smo = smo.fit_sample(X_train, y_train)\n",
    "X_train, y_train = X_smo, y_smo"
   ]
  },
  {
   "cell_type": "markdown",
   "metadata": {},
   "source": [
    "假设营销成本很低的情况下：我们希望找出尽量多的买家，根据这样一个业务场景，我们需要我们的recall越高越好。所以我使用recall作为metric.\n"
   ]
  },
  {
   "cell_type": "markdown",
   "metadata": {},
   "source": [
    "## Baseline: LR "
   ]
  },
  {
   "cell_type": "code",
   "execution_count": 503,
   "metadata": {},
   "outputs": [
    {
     "name": "stdout",
     "output_type": "stream",
     "text": [
      "Fitting 10 folds for each of 10 candidates, totalling 100 fits\n"
     ]
    },
    {
     "name": "stderr",
     "output_type": "stream",
     "text": [
      "[Parallel(n_jobs=-1)]: Using backend LokyBackend with 32 concurrent workers.\n",
      "[Parallel(n_jobs=-1)]: Done 100 out of 100 | elapsed:   12.1s finished\n",
      "/home/shawn/anaconda3/envs/python36/lib/python3.6/site-packages/sklearn/linear_model/logistic.py:433: FutureWarning: Default solver will be changed to 'lbfgs' in 0.22. Specify a solver to silence this warning.\n",
      "  FutureWarning)\n"
     ]
    },
    {
     "name": "stdout",
     "output_type": "stream",
     "text": [
      "Training spending: 0:00:12.312520\n",
      "----------------------------------------------------------------\n",
      "Best score: 0.821\n",
      "Best parameters set:\n",
      "\tlr__C: 1\n",
      "\tlr__penalty: 'l1'\n",
      "----------------------------------------------------------------\n",
      "Accuracy: 0.7759091864620559\n",
      "Precision: 0.012552301255230125\n",
      "Recall: 0.7714285714285715\n",
      "----------------------------------------------------------------\n",
      "[[7355 2124]\n",
      " [   8   27]]\n"
     ]
    },
    {
     "data": {
      "image/png": "[encoded data removed]",
      "text/plain": [
       "<Figure size 288x288 with 2 Axes>"
      ]
     },
     "metadata": {
      "needs_background": "light"
     },
     "output_type": "display_data"
    },
    {
     "name": "stdout",
     "output_type": "stream",
     "text": [
      "----------------------------------------------------------------\n"
     ]
    },
    {
     "data": {
      "image/png": "[encoded data removed]",
      "text/plain": [
       "<Figure size 432x288 with 1 Axes>"
      ]
     },
     "metadata": {
      "needs_background": "light"
     },
     "output_type": "display_data"
    }
   ],
   "source": [
    "# Logistic Regression BaseLine\n",
    "begin_time = nowtime()\n",
    "\n",
    "# Gridsearch settings\n",
    "pipeline = Pipeline([\n",
    "       ('lr', LogisticRegression())\n",
    "   ])\n",
    "parameters = {\n",
    "       'lr__penalty': ('l1', 'l2'),\n",
    "       'lr__C': (0.01, 0.1, 1, 5, 10),\n",
    " }\n",
    "grid_search = GridSearchCV(pipeline, parameters, n_jobs=-1, verbose=1, scoring='recall', cv=10)\n",
    "grid_search.fit(X_train, y_train)\n",
    "end_time = nowtime()\n",
    "print(\"Training spending: {}\".format(str(end_time-begin_time)))\n",
    "print('----------------------------------------------------------------')\n",
    "print('Best score: %0.3f' % grid_search.best_score_)\n",
    "print('Best parameters set:')\n",
    "best_parameters = grid_search.best_estimator_.get_params()\n",
    "for param_name in sorted(parameters.keys()):\n",
    "    print('\\t%s: %r' % (param_name, best_parameters[param_name]))\n",
    "predictions = grid_search.predict(X_test)\n",
    "len(predictions)\n",
    "print('----------------------------------------------------------------')\n",
    "print('Accuracy:', accuracy_score(y_test, predictions))\n",
    "# 查准率，TP/预测中的所有positive的个数。\n",
    "print('Precision:', precision_score(y_test, predictions))\n",
    "# 查全率，TP/实际上为positive的个数\n",
    "print('Recall:', recall_score(y_test, predictions))\n",
    "print('----------------------------------------------------------------')\n",
    "plot_confusion_matrix(y_test, predictions)\n",
    "print('----------------------------------------------------------------')\n",
    "best_estimator_lr = grid_search.best_estimator_.steps[0][1]\n",
    "predictions_prob = best_estimator_lr.predict_proba(X_test)\n",
    "false_positive_rate, recall, thresholds = roc_curve(y_test, predictions_prob[:, 1])\n",
    "roc_auc = auc(false_positive_rate, recall)\n",
    "plt.title('Receiver Operating Characteristic')\n",
    "plt.plot(false_positive_rate, recall, 'b', label='AUC = %0.2f' %roc_auc)\n",
    "plt.legend(loc='lower right')\n",
    "plt.plot([0, 1], [0, 1], 'r--')\n",
    "plt.xlim([0.0, 1.0])\n",
    "plt.ylim([0.0, 1.0])\n",
    "plt.ylabel('Recall')\n",
    "plt.xlabel('Fasle-positive rate')\n",
    "plt.show()"
   ]
  },
  {
   "cell_type": "markdown",
   "metadata": {},
   "source": [
    "我们生成的正负样本数据training set对比test set，刻画了一定真实的分布。"
   ]
  },
  {
   "cell_type": "code",
   "execution_count": 566,
   "metadata": {},
   "outputs": [
    {
     "name": "stdout",
     "output_type": "stream",
     "text": [
      "[0 1 0 ... 1 0 0]\n"
     ]
    }
   ],
   "source": [
    "lr_label_array = best_estimator_lr.predict(ads_test)\n",
    "print(lr_label_array)\n",
    "with open('lr_label_array' + '.pickle', 'wb') as fp:\n",
    "        pickle.dump(lr_label_array, fp)"
   ]
  },
  {
   "cell_type": "code",
   "execution_count": 565,
   "metadata": {},
   "outputs": [
    {
     "name": "stdout",
     "output_type": "stream",
     "text": [
      "[[0.87745088 0.12254912]\n",
      " [0.3828317  0.6171683 ]\n",
      " [0.62615819 0.37384181]\n",
      " ...\n",
      " [0.09497039 0.90502961]\n",
      " [0.92841379 0.07158621]\n",
      " [0.81107639 0.18892361]]\n"
     ]
    }
   ],
   "source": [
    "lr_prob_array = best_estimator_lr.predict_proba(ads_test)\n",
    "print(lr_prob_array)\n",
    "with open('lr_prob_array' + '.pickle', 'wb') as fp:\n",
    "        pickle.dump(lr_prob_array, fp)"
   ]
  },
  {
   "cell_type": "markdown",
   "metadata": {},
   "source": [
    "## Random Forest"
   ]
  },
  {
   "cell_type": "code",
   "execution_count": null,
   "metadata": {},
   "outputs": [],
   "source": [
    "我们考虑用ensmber模型"
   ]
  },
  {
   "cell_type": "markdown",
   "metadata": {},
   "source": [
    "## Random Forest"
   ]
  },
  {
   "cell_type": "code",
   "execution_count": 528,
   "metadata": {},
   "outputs": [
    {
     "name": "stdout",
     "output_type": "stream",
     "text": [
      "Training spending: 0:01:41.298802\n",
      "----------------------------------------------------------------\n",
      "Best model:\n",
      "----------------------------------------------------------------\n",
      "Best score: 0.987\n",
      "Best parameters set:\n",
      "\tmax_depth: 15\n",
      "\tmax_features: 'auto'\n",
      "\tn_estimators: 100\n",
      "----------------------------------------------------------------\n",
      "Scores:\n",
      "----------------------------------------------------------------\n",
      "Recall score: 0.987\n",
      "Accuracy: 0.9725667437460584\n",
      "Precision: 0.12413793103448276\n",
      "Recall: 0.8372093023255814\n",
      "----------------------------------------------------------------\n",
      "Confusion Matrix:\n",
      "----------------------------------------------------------------\n",
      "[[9217  254]\n",
      " [   7   36]]\n"
     ]
    },
    {
     "data": {
      "image/png": "[encoded data removed]",
      "text/plain": [
       "<Figure size 288x288 with 2 Axes>"
      ]
     },
     "metadata": {
      "needs_background": "light"
     },
     "output_type": "display_data"
    },
    {
     "name": "stdout",
     "output_type": "stream",
     "text": [
      "----------------------------------------------------------------\n",
      "                            0\n",
      "visit_freq           0.220244\n",
      "sv_interval          0.211999\n",
      "last_visit           0.127192\n",
      "num_checkins         0.112426\n",
      "last_buy             0.106702\n",
      "expected_time_visit  0.098036\n",
      "uniq_urls            0.084850\n",
      "buy_interval         0.026153\n",
      "expected_time_buy    0.012399\n",
      "----------------------------------------------------------------\n"
     ]
    }
   ],
   "source": [
    "from sklearn.ensemble import RandomForestClassifier\n",
    "begin_time = nowtime()\n",
    "# training model\n",
    "X_t, X_test, y_t, y_test = train_test_split(X,y)\n",
    "\n",
    "# Gridsearch settings\n",
    "pipeline = Pipeline([\n",
    "           ('clf', RandomForestClassifier(criterion='entropy'))\n",
    "       ])\n",
    "parameters = { \n",
    "    'n_estimators': [50, 100],\n",
    "    'max_features': ['auto', 'sqrt', 'log2'],\n",
    "    'max_depth' : [5, 10, 15]\n",
    "}\n",
    "grid_search = GridSearchCV(RandomForestClassifier(), parameters, scoring='recall', cv=10, n_jobs=-1)\n",
    "grid_search.fit(X_train, y_train)\n",
    "end_time = nowtime()\n",
    "print(\"Training spending: {}\".format(str(end_time-begin_time)))\n",
    "print('----------------------------------------------------------------')\n",
    "print('Best model:')\n",
    "print('----------------------------------------------------------------')\n",
    "print('Best score: %0.3f' % grid_search.best_score_)\n",
    "print('Best parameters set:')\n",
    "best_parameters = grid_search.best_estimator_.get_params()\n",
    "for param_name in sorted(parameters.keys()):\n",
    "    print('\\t%s: %r' % (param_name, best_parameters[param_name]))\n",
    "predictions = grid_search.predict(X_test)\n",
    "print('----------------------------------------------------------------')\n",
    "print('Scores:')\n",
    "print('----------------------------------------------------------------')\n",
    "print('Recall score: %0.3f' % grid_search.best_score_)\n",
    "print('Accuracy:', accuracy_score(y_test, predictions))\n",
    "# 查准率，TP/预测中的所有positive的个数。\n",
    "print('Precision:', precision_score(y_test, predictions))\n",
    "# 查全率，TP/实际上为positive的个数\n",
    "print('Recall:', recall_score(y_test, predictions))\n",
    "print('----------------------------------------------------------------')\n",
    "print('Confusion Matrix:')\n",
    "print('----------------------------------------------------------------')\n",
    "plot_confusion_matrix(y_test, predictions)\n",
    "print('----------------------------------------------------------------')\n",
    "best_estimator_rf = grid_search.best_estimator_\n",
    "rf_fit_features = pd.DataFrame(best_estimator_rf.feature_importances_)\n",
    "rf_fit_features.index = column_names\n",
    "print(rf_fit_features.sort_values(0, ascending=False))\n",
    "print('----------------------------------------------------------------')"
   ]
  },
  {
   "cell_type": "markdown",
   "metadata": {},
   "source": [
    "从特征重要性上来说：\n",
    "visit_freq和sv_interval对我们的模型信息增益贡献最大。"
   ]
  },
  {
   "cell_type": "code",
   "execution_count": 545,
   "metadata": {},
   "outputs": [],
   "source": [
    "# ads_test = ads_test['buy_freq'].fillna(mean_value, inplace=True)\n",
    "ads_test = ads_test.drop('buy_freq',axis=1)\n",
    "ads_test = ads_test.drop('isbuyer',axis=1)\n",
    "ads_test = ads_test.drop('multiple_buy',axis=1)\n",
    "ads_test= ads_test.drop('multiple_visit',axis=1)"
   ]
  },
  {
   "cell_type": "code",
   "execution_count": 567,
   "metadata": {},
   "outputs": [
    {
     "name": "stdout",
     "output_type": "stream",
     "text": [
      "[0 0 0 ... 1 0 0]\n",
      "[[0.87745088 0.12254912]\n",
      " [0.3828317  0.6171683 ]\n",
      " [0.62615819 0.37384181]\n",
      " ...\n",
      " [0.09497039 0.90502961]\n",
      " [0.92841379 0.07158621]\n",
      " [0.81107639 0.18892361]]\n"
     ]
    }
   ],
   "source": [
    "rf_array = best_estimator_rf.predict(ads_test)\n",
    "print(rf_array)\n",
    "with open('rf_label_array' + '.pickle', 'wb') as fp:\n",
    "        pickle.dump(rf_array, fp)\n",
    "        \n",
    "rf_prob_array = best_estimator_rf.predict_proba(ads_test)\n",
    "print(lr_prob_array)\n",
    "with open('rf_prob_array' + '.pickle', 'wb') as fp:\n",
    "        pickle.dump(rf_prob_array, fp)"
   ]
  },
  {
   "cell_type": "code",
   "execution_count": null,
   "metadata": {},
   "outputs": [],
   "source": []
  }
 ],
 "metadata": {
  "kernelspec": {
   "display_name": "Python 3",
   "language": "python",
   "name": "python3"
  },
  "language_info": {
   "codemirror_mode": {
    "name": "ipython",
    "version": 3
   },
   "file_extension": ".py",
   "mimetype": "text/x-python",
   "name": "python",
   "nbconvert_exporter": "python",
   "pygments_lexer": "ipython3",
   "version": "3.6.8"
  }
 },
 "nbformat": 4,
 "nbformat_minor": 2
}
